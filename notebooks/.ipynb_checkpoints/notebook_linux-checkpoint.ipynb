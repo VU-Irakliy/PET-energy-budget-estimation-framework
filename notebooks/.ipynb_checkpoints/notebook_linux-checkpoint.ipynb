{
 "cells": [
  {
   "cell_type": "code",
   "execution_count": null,
   "metadata": {},
   "outputs": [],
   "source": [
    "import sys\n",
    "sys.path.append(\"..\")\n",
    "\n",
    "from main import launch_fw"
   ]
  },
  {
   "cell_type": "code",
   "execution_count": null,
   "metadata": {},
   "outputs": [],
   "source": [
    "# Filename that you will use (put it in preparation_files/datasets)\n",
    "filename = 'Adult_v2'\n",
    "\n",
    "# Target attribute, that will be used for ML tasks\n",
    "target = 'income'\n",
    "\n",
    "# Can be 1 dataset as 1 list or 2 datasets inside of 1 list. \n",
    "possible_known_attributes = [['age', 'sex', 'race', 'country'], ['occupation', 'capital_gain', 'type_employer']] \n",
    "\n",
    "# Can be one attribute or None\n",
    "# secret = 'marital' \n",
    "secret = None \n",
    "\n",
    "# For save_my_report_to_csv= put either 'Y' if yes or None for no.\n",
    "launch_fw(input_filename= filename, target_attribute_ML= target, possible_known_attributes= possible_known_attributes, secret_mode= secret, save_my_report_to_csv= 'Y')"
   ]
  },
  {
   "cell_type": "code",
   "execution_count": null,
   "metadata": {},
   "outputs": [],
   "source": [
    "filename = 'student-por'\n",
    "\n",
    "# Target attribute, that will be used for ML tasks\n",
    "target = 'G3'\n",
    "\n",
    "# Can be 1 dataset as 1 list or 2 datasets inside of 1 list. \n",
    "possible_known_attributes = [['age', 'sex', 'address'], ['G1', 'G2', 'absences']] \n",
    "\n",
    "# Can be one attribute or None\n",
    "# secret = put your secret here \n",
    "secret = 'health' \n",
    "\n",
    "# For save_my_report_to_csv= put either 'Y' if yes or None for no.\n",
    "launch_fw(input_filename= filename, target_attribute_ML= target, possible_known_attributes= possible_known_attributes, secret_mode= secret, save_my_report_to_csv= 'Y')\n"
   ]
  }
 ],
 "metadata": {
  "kernelspec": {
   "display_name": "Python (python310mastersproject)",
   "language": "python",
   "name": "python310mastersproject"
  }
 },
 "nbformat": 4,
 "nbformat_minor": 2
}
